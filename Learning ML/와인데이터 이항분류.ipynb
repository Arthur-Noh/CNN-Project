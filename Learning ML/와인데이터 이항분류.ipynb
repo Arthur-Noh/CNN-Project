{
 "cells": [
  {
   "cell_type": "code",
   "execution_count": 1,
   "metadata": {},
   "outputs": [],
   "source": [
    "import tensorflow as tf\n",
    "import pandas as pd\n",
    "import matplotlib.pyplot as plt\n",
    "import numpy as np"
   ]
  },
  {
   "cell_type": "code",
   "execution_count": 2,
   "metadata": {},
   "outputs": [
    {
     "name": "stdout",
     "output_type": "stream",
     "text": [
      "   fixed acidity  volatile acidity  citric acid  residual sugar  chlorides  \\\n",
      "0            7.4              0.70         0.00             1.9      0.076   \n",
      "1            7.8              0.88         0.00             2.6      0.098   \n",
      "2            7.8              0.76         0.04             2.3      0.092   \n",
      "3           11.2              0.28         0.56             1.9      0.075   \n",
      "4            7.4              0.70         0.00             1.9      0.076   \n",
      "\n",
      "   free sulfur dioxide  total sulfur dioxide  density    pH  sulphates  \\\n",
      "0                 11.0                  34.0   0.9978  3.51       0.56   \n",
      "1                 25.0                  67.0   0.9968  3.20       0.68   \n",
      "2                 15.0                  54.0   0.9970  3.26       0.65   \n",
      "3                 17.0                  60.0   0.9980  3.16       0.58   \n",
      "4                 11.0                  34.0   0.9978  3.51       0.56   \n",
      "\n",
      "   alcohol  quality  \n",
      "0      9.4        5  \n",
      "1      9.8        5  \n",
      "2      9.8        5  \n",
      "3      9.8        6  \n",
      "4      9.4        5  \n",
      "      fixed acidity  volatile acidity  citric acid  residual sugar  chlorides  \\\n",
      "4893            6.2              0.21         0.29             1.6      0.039   \n",
      "4894            6.6              0.32         0.36             8.0      0.047   \n",
      "4895            6.5              0.24         0.19             1.2      0.041   \n",
      "4896            5.5              0.29         0.30             1.1      0.022   \n",
      "4897            6.0              0.21         0.38             0.8      0.020   \n",
      "\n",
      "      free sulfur dioxide  total sulfur dioxide  density    pH  sulphates  \\\n",
      "4893                 24.0                  92.0  0.99114  3.27       0.50   \n",
      "4894                 57.0                 168.0  0.99490  3.15       0.46   \n",
      "4895                 30.0                 111.0  0.99254  2.99       0.46   \n",
      "4896                 20.0                 110.0  0.98869  3.34       0.38   \n",
      "4897                 22.0                  98.0  0.98941  3.26       0.32   \n",
      "\n",
      "      alcohol  quality  \n",
      "4893     11.2        6  \n",
      "4894      9.6        5  \n",
      "4895      9.4        6  \n",
      "4896     12.8        7  \n",
      "4897     11.8        6  \n"
     ]
    }
   ],
   "source": [
    "red = pd.read_csv('http://archive.ics.uci.edu/ml/machine-learning-databases/wine-quality/winequality-red.csv', sep=';')\n",
    "white = pd.read_csv('http://archive.ics.uci.edu/ml/machine-learning-databases/wine-quality/winequality-white.csv', sep=';')\n",
    "\n",
    "print(red.head())\n",
    "print(white.tail())"
   ]
  },
  {
   "cell_type": "code",
   "execution_count": 3,
   "metadata": {},
   "outputs": [
    {
     "name": "stdout",
     "output_type": "stream",
     "text": [
      "   fixed acidity  volatile acidity  citric acid  residual sugar  chlorides  \\\n",
      "0            7.4              0.70          0.0             1.9      0.076   \n",
      "1            7.8              0.88          0.0             2.6      0.098   \n",
      "\n",
      "   free sulfur dioxide  total sulfur dioxide  density    pH  sulphates  \\\n",
      "0                 11.0                  34.0   0.9978  3.51       0.56   \n",
      "1                 25.0                  67.0   0.9968  3.20       0.68   \n",
      "\n",
      "   alcohol  quality  type  \n",
      "0      9.4        5     0  \n",
      "1      9.8        5     0  \n",
      "      fixed acidity  volatile acidity  citric acid  residual sugar  chlorides  \\\n",
      "4896            5.5              0.29         0.30             1.1      0.022   \n",
      "4897            6.0              0.21         0.38             0.8      0.020   \n",
      "\n",
      "      free sulfur dioxide  total sulfur dioxide  density    pH  sulphates  \\\n",
      "4896                 20.0                 110.0  0.98869  3.34       0.38   \n",
      "4897                 22.0                  98.0  0.98941  3.26       0.32   \n",
      "\n",
      "      alcohol  quality  type  \n",
      "4896     12.8        7     1  \n",
      "4897     11.8        6     1  \n",
      "       fixed acidity  volatile acidity  citric acid  residual sugar  \\\n",
      "count    6497.000000       6497.000000  6497.000000     6497.000000   \n",
      "mean        7.215307          0.339666     0.318633        5.443235   \n",
      "std         1.296434          0.164636     0.145318        4.757804   \n",
      "min         3.800000          0.080000     0.000000        0.600000   \n",
      "25%         6.400000          0.230000     0.250000        1.800000   \n",
      "50%         7.000000          0.290000     0.310000        3.000000   \n",
      "75%         7.700000          0.400000     0.390000        8.100000   \n",
      "max        15.900000          1.580000     1.660000       65.800000   \n",
      "\n",
      "         chlorides  free sulfur dioxide  total sulfur dioxide      density  \\\n",
      "count  6497.000000          6497.000000           6497.000000  6497.000000   \n",
      "mean      0.056034            30.525319            115.744574     0.994697   \n",
      "std       0.035034            17.749400             56.521855     0.002999   \n",
      "min       0.009000             1.000000              6.000000     0.987110   \n",
      "25%       0.038000            17.000000             77.000000     0.992340   \n",
      "50%       0.047000            29.000000            118.000000     0.994890   \n",
      "75%       0.065000            41.000000            156.000000     0.996990   \n",
      "max       0.611000           289.000000            440.000000     1.038980   \n",
      "\n",
      "                pH    sulphates      alcohol      quality         type  \n",
      "count  6497.000000  6497.000000  6497.000000  6497.000000  6497.000000  \n",
      "mean      3.218501     0.531268    10.491801     5.818378     0.753886  \n",
      "std       0.160787     0.148806     1.192712     0.873255     0.430779  \n",
      "min       2.720000     0.220000     8.000000     3.000000     0.000000  \n",
      "25%       3.110000     0.430000     9.500000     5.000000     1.000000  \n",
      "50%       3.210000     0.510000    10.300000     6.000000     1.000000  \n",
      "75%       3.320000     0.600000    11.300000     6.000000     1.000000  \n",
      "max       4.010000     2.000000    14.900000     9.000000     1.000000  \n"
     ]
    }
   ],
   "source": [
    "red['type'] = 0\n",
    "white['type'] = 1\n",
    "print(red.head(2))\n",
    "print(white.tail(2))\n",
    "\n",
    "wine = pd.concat([red, white])\n",
    "print(wine.describe())"
   ]
  },
  {
   "cell_type": "code",
   "execution_count": 4,
   "metadata": {},
   "outputs": [
    {
     "data": {
      "image/png": "[encoded data removed]",
      "text/plain": [
       "<Figure size 432x288 with 1 Axes>"
      ]
     },
     "metadata": {
      "needs_background": "light"
     },
     "output_type": "display_data"
    }
   ],
   "source": [
    "plt.hist(wine['type'])\n",
    "plt.xticks([0,1])\n",
    "plt.show()"
   ]
  },
  {
   "cell_type": "code",
   "execution_count": 5,
   "metadata": {},
   "outputs": [
    {
     "name": "stdout",
     "output_type": "stream",
     "text": [
      "1    4898\n",
      "0    1599\n",
      "Name: type, dtype: int64\n"
     ]
    }
   ],
   "source": [
    "print(wine['type'].value_counts())"
   ]
  },
  {
   "cell_type": "code",
   "execution_count": 6,
   "metadata": {},
   "outputs": [
    {
     "name": "stdout",
     "output_type": "stream",
     "text": [
      "<class 'pandas.core.frame.DataFrame'>\n",
      "Int64Index: 6497 entries, 0 to 4897\n",
      "Data columns (total 13 columns):\n",
      " #   Column                Non-Null Count  Dtype  \n",
      "---  ------                --------------  -----  \n",
      " 0   fixed acidity         6497 non-null   float64\n",
      " 1   volatile acidity      6497 non-null   float64\n",
      " 2   citric acid           6497 non-null   float64\n",
      " 3   residual sugar        6497 non-null   float64\n",
      " 4   chlorides             6497 non-null   float64\n",
      " 5   free sulfur dioxide   6497 non-null   float64\n",
      " 6   total sulfur dioxide  6497 non-null   float64\n",
      " 7   density               6497 non-null   float64\n",
      " 8   pH                    6497 non-null   float64\n",
      " 9   sulphates             6497 non-null   float64\n",
      " 10  alcohol               6497 non-null   float64\n",
      " 11  quality               6497 non-null   int64  \n",
      " 12  type                  6497 non-null   int64  \n",
      "dtypes: float64(11), int64(2)\n",
      "memory usage: 710.6 KB\n",
      "None\n"
     ]
    }
   ],
   "source": [
    "print(wine.info())"
   ]
  },
  {
   "cell_type": "code",
   "execution_count": 7,
   "metadata": {},
   "outputs": [
    {
     "name": "stdout",
     "output_type": "stream",
     "text": [
      "   fixed acidity  volatile acidity  citric acid  residual sugar  chlorides  \\\n",
      "0       0.297521          0.413333          0.0        0.019939   0.111296   \n",
      "1       0.330579          0.533333          0.0        0.030675   0.147841   \n",
      "\n",
      "   free sulfur dioxide  total sulfur dioxide   density        pH  sulphates  \\\n",
      "0             0.034722              0.064516  0.206092  0.612403   0.191011   \n",
      "1             0.083333              0.140553  0.186813  0.372093   0.258427   \n",
      "\n",
      "    alcohol   quality  type  \n",
      "0  0.202899  0.333333   0.0  \n",
      "1  0.260870  0.333333   0.0  \n",
      "       fixed acidity  volatile acidity  citric acid  residual sugar  \\\n",
      "count    6497.000000       6497.000000  6497.000000     6497.000000   \n",
      "mean        0.282257          0.173111     0.191948        0.074283   \n",
      "std         0.107143          0.109758     0.087541        0.072972   \n",
      "min         0.000000          0.000000     0.000000        0.000000   \n",
      "25%         0.214876          0.100000     0.150602        0.018405   \n",
      "50%         0.264463          0.140000     0.186747        0.036810   \n",
      "75%         0.322314          0.213333     0.234940        0.115031   \n",
      "max         1.000000          1.000000     1.000000        1.000000   \n",
      "\n",
      "         chlorides  free sulfur dioxide  total sulfur dioxide      density  \\\n",
      "count  6497.000000          6497.000000           6497.000000  6497.000000   \n",
      "mean      0.078129             0.102518              0.252868     0.146262   \n",
      "std       0.058195             0.061630              0.130235     0.057811   \n",
      "min       0.000000             0.000000              0.000000     0.000000   \n",
      "25%       0.048173             0.055556              0.163594     0.100829   \n",
      "50%       0.063123             0.097222              0.258065     0.149990   \n",
      "75%       0.093023             0.138889              0.345622     0.190476   \n",
      "max       1.000000             1.000000              1.000000     1.000000   \n",
      "\n",
      "                pH    sulphates      alcohol      quality         type  \n",
      "count  6497.000000  6497.000000  6497.000000  6497.000000  6497.000000  \n",
      "mean      0.386435     0.174870     0.361131     0.469730     0.753886  \n",
      "std       0.124641     0.083599     0.172857     0.145543     0.430779  \n",
      "min       0.000000     0.000000     0.000000     0.000000     0.000000  \n",
      "25%       0.302326     0.117978     0.217391     0.333333     1.000000  \n",
      "50%       0.379845     0.162921     0.333333     0.500000     1.000000  \n",
      "75%       0.465116     0.213483     0.478261     0.500000     1.000000  \n",
      "max       1.000000     1.000000     1.000000     1.000000     1.000000  \n"
     ]
    }
   ],
   "source": [
    "wine_norm = (wine - wine.min()) / (wine.max() - wine.min())\n",
    "print(wine_norm.head(2))\n",
    "print(wine_norm.describe())"
   ]
  },
  {
   "cell_type": "code",
   "execution_count": 8,
   "metadata": {},
   "outputs": [
    {
     "name": "stdout",
     "output_type": "stream",
     "text": [
      "      fixed acidity  volatile acidity  citric acid  residual sugar  chlorides  \\\n",
      "2021       0.206612          0.086667     0.168675        0.013804   0.069767   \n",
      "2341       0.280992          0.173333     0.180723        0.119632   0.069767   \n",
      "1624       0.429752          0.060000     0.295181        0.006135   0.049834   \n",
      "1081       0.338843          0.146667     0.409639        0.118098   0.068106   \n",
      "450        0.280992          0.346667     0.120482        0.142638   0.101329   \n",
      "\n",
      "      free sulfur dioxide  total sulfur dioxide   density        pH  \\\n",
      "2021             0.156250              0.313364  0.109697  0.395349   \n",
      "2341             0.135417              0.370968  0.201465  0.589147   \n",
      "1624             0.156250              0.288018  0.113553  0.286822   \n",
      "1081             0.126736              0.652074  0.116638  0.224806   \n",
      "450              0.069444              0.387097  0.192597  0.240310   \n",
      "\n",
      "      sulphates   alcohol   quality  type  \n",
      "2021   0.112360  0.304348  0.500000   1.0  \n",
      "2341   0.224719  0.246377  0.333333   1.0  \n",
      "1624   0.162921  0.362319  0.666667   1.0  \n",
      "1081   0.162921  0.623188  0.666667   0.0  \n",
      "450    0.179775  0.159420  0.333333   1.0  \n",
      "[[0.20661157 0.08666667 0.1686747  0.01380368 0.06976744 0.15625\n",
      "  0.31336406 0.10969732 0.39534884 0.11235955 0.30434783 0.5\n",
      "  1.        ]\n",
      " [0.28099174 0.17333333 0.18072289 0.1196319  0.06976744 0.13541667\n",
      "  0.37096774 0.2014652  0.58914729 0.2247191  0.24637681 0.33333333\n",
      "  1.        ]\n",
      " [0.42975207 0.06       0.29518072 0.00613497 0.04983389 0.15625\n",
      "  0.28801843 0.11355311 0.28682171 0.16292135 0.36231884 0.66666667\n",
      "  1.        ]\n",
      " [0.33884298 0.14666667 0.40963855 0.11809816 0.06810631 0.12673611\n",
      "  0.65207373 0.11663775 0.2248062  0.16292135 0.62318841 0.66666667\n",
      "  0.        ]\n",
      " [0.28099174 0.34666667 0.12048193 0.14263804 0.1013289  0.06944444\n",
      "  0.38709677 0.19259688 0.24031008 0.17977528 0.15942029 0.33333333\n",
      "  1.        ]]\n"
     ]
    }
   ],
   "source": [
    "wine_shuffle = wine_norm.sample(frac=1)\n",
    "print(wine_shuffle.head())\n",
    "\n",
    "wine_np = wine_shuffle.to_numpy()\n",
    "print(wine_np[:5])"
   ]
  },
  {
   "cell_type": "code",
   "execution_count": 9,
   "metadata": {},
   "outputs": [
    {
     "name": "stdout",
     "output_type": "stream",
     "text": [
      "[0.20661157 0.08666667 0.1686747  0.01380368 0.06976744 0.15625\n",
      " 0.31336406 0.10969732 0.39534884 0.11235955 0.30434783 0.5       ]\n",
      "1.0\n",
      "[0.24793388 0.40666667 0.         0.07668712 0.1910299  0.06944444\n",
      " 0.11981567 0.24272219 0.57364341 0.28089888 0.31884058 0.33333333]\n",
      "0.0\n",
      "[0. 1.]\n",
      "[1. 0.]\n"
     ]
    }
   ],
   "source": [
    "train_idx = int(len(wine_np) * 0.8)\n",
    "\n",
    "train_X , train_Y = wine_np[:train_idx, :-1], wine_np[:train_idx, -1]\n",
    "test_X, test_Y = wine_np[train_idx:, :-1], wine_np[train_idx:, -1]\n",
    "\n",
    "print(train_X[0])\n",
    "print(train_Y[0])\n",
    "\n",
    "print(test_X[0])\n",
    "print(test_Y[0])\n",
    "\n",
    "train_Y = tf.keras.utils.to_categorical(train_Y, num_classes=2)\n",
    "test_Y = tf.keras.utils.to_categorical(test_Y, num_classes=2)\n",
    "\n",
    "print(train_Y[0])\n",
    "print(test_Y[0])"
   ]
  },
  {
   "cell_type": "code",
   "execution_count": 10,
   "metadata": {},
   "outputs": [
    {
     "name": "stdout",
     "output_type": "stream",
     "text": [
      "Model: \"sequential\"\n",
      "_________________________________________________________________\n",
      "Layer (type)                 Output Shape              Param #   \n",
      "=================================================================\n",
      "dense (Dense)                (None, 48)                624       \n",
      "_________________________________________________________________\n",
      "dense_1 (Dense)              (None, 24)                1176      \n",
      "_________________________________________________________________\n",
      "dense_2 (Dense)              (None, 12)                300       \n",
      "_________________________________________________________________\n",
      "dense_3 (Dense)              (None, 2)                 26        \n",
      "=================================================================\n",
      "Total params: 2,126\n",
      "Trainable params: 2,126\n",
      "Non-trainable params: 0\n",
      "_________________________________________________________________\n"
     ]
    }
   ],
   "source": [
    "model = tf.keras.Sequential([\n",
    "    tf.keras.layers.Dense(units=48, activation='relu', input_shape=(12,)),\n",
    "    tf.keras.layers.Dense(units=24, activation='relu'),\n",
    "    tf.keras.layers.Dense(units=12, activation='relu'),\n",
    "    tf.keras.layers.Dense(units=2, activation='softmax')\n",
    "])\n",
    "\n",
    "model.compile(\n",
    "    optimizer=tf.keras.optimizers.Adam(lr=0.01),\n",
    "    loss='categorical_crossentropy',\n",
    "    metrics=['accuracy']\n",
    ")\n",
    "\n",
    "model.summary()"
   ]
  },
  {
   "cell_type": "code",
   "execution_count": 11,
   "metadata": {
    "scrolled": true
   },
   "outputs": [
    {
     "name": "stdout",
     "output_type": "stream",
     "text": [
      "Epoch 1/25\n",
      "122/122 [==============================] - 0s 3ms/step - loss: 0.1349 - accuracy: 0.9428 - val_loss: 0.0600 - val_accuracy: 0.9869\n",
      "Epoch 2/25\n",
      "122/122 [==============================] - 0s 2ms/step - loss: 0.0459 - accuracy: 0.9864 - val_loss: 0.0548 - val_accuracy: 0.9854\n",
      "Epoch 3/25\n",
      "122/122 [==============================] - 0s 2ms/step - loss: 0.0509 - accuracy: 0.9856 - val_loss: 0.0426 - val_accuracy: 0.9892\n",
      "Epoch 4/25\n",
      "122/122 [==============================] - 0s 2ms/step - loss: 0.0387 - accuracy: 0.9887 - val_loss: 0.0539 - val_accuracy: 0.9862\n",
      "Epoch 5/25\n",
      "122/122 [==============================] - 0s 2ms/step - loss: 0.0411 - accuracy: 0.9877 - val_loss: 0.0386 - val_accuracy: 0.9892\n",
      "Epoch 6/25\n",
      "122/122 [==============================] - 0s 2ms/step - loss: 0.0327 - accuracy: 0.9918 - val_loss: 0.0354 - val_accuracy: 0.9900\n",
      "Epoch 7/25\n",
      "122/122 [==============================] - 0s 2ms/step - loss: 0.0360 - accuracy: 0.9892 - val_loss: 0.0387 - val_accuracy: 0.9923\n",
      "Epoch 8/25\n",
      "122/122 [==============================] - 0s 2ms/step - loss: 0.0289 - accuracy: 0.9938 - val_loss: 0.0301 - val_accuracy: 0.9931\n",
      "Epoch 9/25\n",
      "122/122 [==============================] - 0s 2ms/step - loss: 0.0300 - accuracy: 0.9920 - val_loss: 0.0418 - val_accuracy: 0.9877\n",
      "Epoch 10/25\n",
      "122/122 [==============================] - 0s 2ms/step - loss: 0.0256 - accuracy: 0.9933 - val_loss: 0.0306 - val_accuracy: 0.9938\n",
      "Epoch 11/25\n",
      "122/122 [==============================] - 0s 2ms/step - loss: 0.0240 - accuracy: 0.9944 - val_loss: 0.0317 - val_accuracy: 0.9931\n",
      "Epoch 12/25\n",
      "122/122 [==============================] - 0s 2ms/step - loss: 0.0292 - accuracy: 0.9923 - val_loss: 0.0372 - val_accuracy: 0.9908\n",
      "Epoch 13/25\n",
      "122/122 [==============================] - 0s 2ms/step - loss: 0.0330 - accuracy: 0.9926 - val_loss: 0.0474 - val_accuracy: 0.9869\n",
      "Epoch 14/25\n",
      "122/122 [==============================] - 0s 2ms/step - loss: 0.0276 - accuracy: 0.9933 - val_loss: 0.0279 - val_accuracy: 0.9954\n",
      "Epoch 15/25\n",
      "122/122 [==============================] - 0s 2ms/step - loss: 0.0223 - accuracy: 0.9951 - val_loss: 0.0296 - val_accuracy: 0.9938\n",
      "Epoch 16/25\n",
      "122/122 [==============================] - 0s 2ms/step - loss: 0.0308 - accuracy: 0.9915 - val_loss: 0.0373 - val_accuracy: 0.9908\n",
      "Epoch 17/25\n",
      "122/122 [==============================] - 0s 2ms/step - loss: 0.0302 - accuracy: 0.9936 - val_loss: 0.0541 - val_accuracy: 0.9838\n",
      "Epoch 18/25\n",
      "122/122 [==============================] - 0s 2ms/step - loss: 0.0279 - accuracy: 0.9938 - val_loss: 0.0265 - val_accuracy: 0.9954\n",
      "Epoch 19/25\n",
      "122/122 [==============================] - 0s 2ms/step - loss: 0.0298 - accuracy: 0.9918 - val_loss: 0.0543 - val_accuracy: 0.9846\n",
      "Epoch 20/25\n",
      "122/122 [==============================] - 0s 2ms/step - loss: 0.0248 - accuracy: 0.9933 - val_loss: 0.0274 - val_accuracy: 0.9946\n",
      "Epoch 21/25\n",
      "122/122 [==============================] - 0s 2ms/step - loss: 0.0235 - accuracy: 0.9944 - val_loss: 0.0283 - val_accuracy: 0.9938\n",
      "Epoch 22/25\n",
      "122/122 [==============================] - 0s 2ms/step - loss: 0.0220 - accuracy: 0.9954 - val_loss: 0.0266 - val_accuracy: 0.9946\n",
      "Epoch 23/25\n",
      "122/122 [==============================] - 0s 2ms/step - loss: 0.0220 - accuracy: 0.9959 - val_loss: 0.0335 - val_accuracy: 0.9931\n",
      "Epoch 24/25\n",
      "122/122 [==============================] - 0s 2ms/step - loss: 0.0268 - accuracy: 0.9936 - val_loss: 0.0280 - val_accuracy: 0.9938\n",
      "Epoch 25/25\n",
      "122/122 [==============================] - 0s 2ms/step - loss: 0.0235 - accuracy: 0.9951 - val_loss: 0.0240 - val_accuracy: 0.9946\n"
     ]
    }
   ],
   "source": [
    "his = model.fit(train_X, train_Y, epochs=25, batch_size=32, validation_split=0.25)"
   ]
  },
  {
   "cell_type": "code",
   "execution_count": 12,
   "metadata": {},
   "outputs": [
    {
     "name": "stdout",
     "output_type": "stream",
     "text": [
      "41/41 [==============================] - 0s 1ms/step - loss: 0.0240 - accuracy: 0.9946\n"
     ]
    },
    {
     "data": {
      "text/plain": [
       "[0.024013228714466095, 0.994615375995636]"
      ]
     },
     "execution_count": 12,
     "metadata": {},
     "output_type": "execute_result"
    }
   ],
   "source": [
    "model.evaluate(test_X, test_Y)"
   ]
  },
  {
   "cell_type": "code",
   "execution_count": 14,
   "metadata": {},
   "outputs": [
    {
     "data": {
      "image/png": "[encoded data removed]",
      "text/plain": [
       "<Figure size 864x288 with 2 Axes>"
      ]
     },
     "metadata": {
      "needs_background": "light"
     },
     "output_type": "display_data"
    }
   ],
   "source": [
    "plt.figure(figsize=(12, 4))\n",
    "\n",
    "plt.subplot(1, 2, 1)\n",
    "plt.plot(his.history['loss'], 'b-', label='loss')\n",
    "plt.plot(his.history['val_loss'], 'r--', label='val_loss')\n",
    "\n",
    "plt.subplot(1, 2, 2)\n",
    "plt.plot(his.history['accuracy'], 'g-', label='accuracy')\n",
    "plt.plot(his.history['val_accuracy'], 'k--', label='val_accuracy')\n",
    "plt.ylim(0.7, 1)\n",
    "\n",
    "plt.xlabel('Epoch')\n",
    "plt.legend()\n",
    "\n",
    "plt.show()\n"
   ]
  },
  {
   "cell_type": "code",
   "execution_count": 15,
   "metadata": {},
   "outputs": [
    {
     "name": "stdout",
     "output_type": "stream",
     "text": [
      "41/41 [==============================] - 0s 1ms/step - loss: 0.0240 - accuracy: 0.9946\n"
     ]
    },
    {
     "data": {
      "text/plain": [
       "[0.024013228714466095, 0.994615375995636]"
      ]
     },
     "execution_count": 15,
     "metadata": {},
     "output_type": "execute_result"
    }
   ],
   "source": [
    "model.evaluate(test_X, test_Y)"
   ]
  },
  {
   "cell_type": "code",
   "execution_count": 20,
   "metadata": {},
   "outputs": [
    {
     "name": "stdout",
     "output_type": "stream",
     "text": [
      "count    6497.000000\n",
      "mean        5.818378\n",
      "std         0.873255\n",
      "min         3.000000\n",
      "25%         5.000000\n",
      "50%         6.000000\n",
      "75%         6.000000\n",
      "max         9.000000\n",
      "Name: quality, dtype: float64\n",
      "6    2836\n",
      "5    2138\n",
      "7    1079\n",
      "4     216\n",
      "8     193\n",
      "3      30\n",
      "9       5\n",
      "Name: quality, dtype: int64\n"
     ]
    }
   ],
   "source": [
    "print(wine['quality'].describe())\n",
    "print(wine['quality'].value_counts())"
   ]
  },
  {
   "cell_type": "code",
   "execution_count": 21,
   "metadata": {},
   "outputs": [
    {
     "data": {
      "image/png": "[encoded data removed]",
      "text/plain": [
       "<Figure size 432x288 with 1 Axes>"
      ]
     },
     "metadata": {
      "needs_background": "light"
     },
     "output_type": "display_data"
    }
   ],
   "source": [
    "plt.hist(wine['quality'], bins=7, rwidth=0.8)\n",
    "plt.show()"
   ]
  },
  {
   "cell_type": "code",
   "execution_count": 31,
   "metadata": {},
   "outputs": [],
   "source": [
    "wine.loc[wine['quality'] <= 4, 'grade'] = 0\n",
    "wine.loc[wine['quality'] == 5, 'grade'] = 1\n",
    "wine.loc[wine['quality'] == 6, 'grade'] = 2\n",
    "wine.loc[wine['quality'] >= 7, 'grade'] = 3"
   ]
  },
  {
   "cell_type": "code",
   "execution_count": 33,
   "metadata": {},
   "outputs": [
    {
     "name": "stdout",
     "output_type": "stream",
     "text": [
      "count    6497.000000\n",
      "mean        1.791750\n",
      "std         0.796123\n",
      "min         0.000000\n",
      "25%         1.000000\n",
      "50%         2.000000\n",
      "75%         2.000000\n",
      "max         3.000000\n",
      "Name: grade, dtype: float64\n",
      "2    2836\n",
      "1    2138\n",
      "3    1277\n",
      "0     246\n",
      "Name: grade, dtype: int64\n"
     ]
    }
   ],
   "source": [
    "print(wine['grade'].describe())\n",
    "print(wine['grade'].value_counts())"
   ]
  },
  {
   "cell_type": "code",
   "execution_count": 44,
   "metadata": {},
   "outputs": [
    {
     "data": {
      "image/png": "[encoded data removed]",
      "text/plain": [
       "<Figure size 432x288 with 1 Axes>"
      ]
     },
     "metadata": {
      "needs_background": "light"
     },
     "output_type": "display_data"
    }
   ],
   "source": [
    "plt.hist(wine['grade'], bins=4, rwidth=0.5)\n",
    "plt.show()"
   ]
  },
  {
   "cell_type": "code",
   "execution_count": 47,
   "metadata": {},
   "outputs": [],
   "source": [
    "del wine['quality']\n",
    "wine_norm = (wine - wine.min()) / (wine.max() - wine.min())\n",
    "wine_shuffle = wine_norm.sample(frac=1)\n",
    "wine_np = wine_shuffle.to_numpy()"
   ]
  },
  {
   "cell_type": "code",
   "execution_count": 49,
   "metadata": {},
   "outputs": [],
   "source": [
    "train_idx = int(len(wine_np) * 0.8)"
   ]
  },
  {
   "cell_type": "code",
   "execution_count": 51,
   "metadata": {},
   "outputs": [],
   "source": [
    "train_X, train_Y = wine_np[:train_idx, :-1], wine_np[:train_idx, -1]\n",
    "test_X, test_Y = wine_np[train_idx:, :-1], wine_np[train_idx:, -1]\n",
    "train_Y = tf.keras.utils.to_categorical(train_Y, num_classes=4)\n",
    "test_Y = tf.keras.utils.to_categorical(test_Y, num_classes=4)"
   ]
  },
  {
   "cell_type": "code",
   "execution_count": 54,
   "metadata": {},
   "outputs": [],
   "source": [
    "model = tf.keras.Sequential([\n",
    "    tf.keras.layers.Dense(units=48, activation='relu', input_shape=(12,)),\n",
    "    tf.keras.layers.Dense(units=24, activation='relu'),\n",
    "    tf.keras.layers.Dense(units=12, activation='relu'),\n",
    "    tf.keras.layers.Dense(units=4, activation='softmax')\n",
    "])\n",
    "\n",
    "model.compile(\n",
    "    optimizer = tf.keras.optimizers.Adam(lr=0.01),\n",
    "    loss = 'categorical_crossentropy',\n",
    "    metrics = ['accuracy']\n",
    ")"
   ]
  },
  {
   "cell_type": "code",
   "execution_count": 56,
   "metadata": {
    "scrolled": true
   },
   "outputs": [
    {
     "name": "stdout",
     "output_type": "stream",
     "text": [
      "Epoch 1/100\n",
      "122/122 [==============================] - 0s 2ms/step - loss: 0.3672 - accuracy: 0.8286 - val_loss: 0.3768 - val_accuracy: 0.8262\n",
      "Epoch 2/100\n",
      "122/122 [==============================] - 0s 2ms/step - loss: 0.3632 - accuracy: 0.8281 - val_loss: 0.3785 - val_accuracy: 0.8238\n",
      "Epoch 3/100\n",
      "122/122 [==============================] - 0s 2ms/step - loss: 0.3556 - accuracy: 0.8386 - val_loss: 0.3809 - val_accuracy: 0.8146\n",
      "Epoch 4/100\n",
      "122/122 [==============================] - 0s 2ms/step - loss: 0.3638 - accuracy: 0.8317 - val_loss: 0.3783 - val_accuracy: 0.8177\n",
      "Epoch 5/100\n",
      "122/122 [==============================] - 0s 2ms/step - loss: 0.3568 - accuracy: 0.8337 - val_loss: 0.3731 - val_accuracy: 0.8238\n",
      "Epoch 6/100\n",
      "122/122 [==============================] - 0s 2ms/step - loss: 0.3536 - accuracy: 0.8360 - val_loss: 0.3768 - val_accuracy: 0.8162\n",
      "Epoch 7/100\n",
      "122/122 [==============================] - 0s 2ms/step - loss: 0.3573 - accuracy: 0.8347 - val_loss: 0.3961 - val_accuracy: 0.8031\n",
      "Epoch 8/100\n",
      "122/122 [==============================] - 0s 2ms/step - loss: 0.3576 - accuracy: 0.8342 - val_loss: 0.4274 - val_accuracy: 0.8185\n",
      "Epoch 9/100\n",
      "122/122 [==============================] - 0s 2ms/step - loss: 0.3598 - accuracy: 0.8319 - val_loss: 0.3737 - val_accuracy: 0.8223\n",
      "Epoch 10/100\n",
      "122/122 [==============================] - 0s 2ms/step - loss: 0.3512 - accuracy: 0.8381 - val_loss: 0.3792 - val_accuracy: 0.8169\n",
      "Epoch 11/100\n",
      "122/122 [==============================] - 0s 2ms/step - loss: 0.3529 - accuracy: 0.8347 - val_loss: 0.3757 - val_accuracy: 0.8238\n",
      "Epoch 12/100\n",
      "122/122 [==============================] - 0s 2ms/step - loss: 0.3524 - accuracy: 0.8329 - val_loss: 0.3703 - val_accuracy: 0.8246\n",
      "Epoch 13/100\n",
      "122/122 [==============================] - 0s 2ms/step - loss: 0.3531 - accuracy: 0.8324 - val_loss: 0.3648 - val_accuracy: 0.8292\n",
      "Epoch 14/100\n",
      "122/122 [==============================] - 0s 2ms/step - loss: 0.3506 - accuracy: 0.8381 - val_loss: 0.3618 - val_accuracy: 0.8277\n",
      "Epoch 15/100\n",
      "122/122 [==============================] - 0s 2ms/step - loss: 0.3506 - accuracy: 0.8404 - val_loss: 0.3714 - val_accuracy: 0.8254\n",
      "Epoch 16/100\n",
      "122/122 [==============================] - 0s 2ms/step - loss: 0.3511 - accuracy: 0.8358 - val_loss: 0.3704 - val_accuracy: 0.8254\n",
      "Epoch 17/100\n",
      "122/122 [==============================] - 0s 2ms/step - loss: 0.3453 - accuracy: 0.8389 - val_loss: 0.3727 - val_accuracy: 0.8254\n",
      "Epoch 18/100\n",
      "122/122 [==============================] - 0s 2ms/step - loss: 0.3502 - accuracy: 0.8360 - val_loss: 0.3773 - val_accuracy: 0.8192\n",
      "Epoch 19/100\n",
      "122/122 [==============================] - 0s 2ms/step - loss: 0.3466 - accuracy: 0.8432 - val_loss: 0.3694 - val_accuracy: 0.8254\n",
      "Epoch 20/100\n",
      "122/122 [==============================] - 0s 2ms/step - loss: 0.3502 - accuracy: 0.8378 - val_loss: 0.3815 - val_accuracy: 0.8200\n",
      "Epoch 21/100\n",
      "122/122 [==============================] - 0s 2ms/step - loss: 0.3508 - accuracy: 0.8386 - val_loss: 0.3994 - val_accuracy: 0.8069\n",
      "Epoch 22/100\n",
      "122/122 [==============================] - 0s 2ms/step - loss: 0.3503 - accuracy: 0.8365 - val_loss: 0.3774 - val_accuracy: 0.8146\n",
      "Epoch 23/100\n",
      "122/122 [==============================] - 0s 2ms/step - loss: 0.3478 - accuracy: 0.8399 - val_loss: 0.3745 - val_accuracy: 0.8123\n",
      "Epoch 24/100\n",
      "122/122 [==============================] - 0s 2ms/step - loss: 0.3406 - accuracy: 0.8378 - val_loss: 0.3638 - val_accuracy: 0.8346\n",
      "Epoch 25/100\n",
      "122/122 [==============================] - 0s 2ms/step - loss: 0.3443 - accuracy: 0.8478 - val_loss: 0.3799 - val_accuracy: 0.8169\n",
      "Epoch 26/100\n",
      "122/122 [==============================] - 0s 2ms/step - loss: 0.3526 - accuracy: 0.8373 - val_loss: 0.3789 - val_accuracy: 0.8254\n",
      "Epoch 27/100\n",
      "122/122 [==============================] - 0s 2ms/step - loss: 0.3425 - accuracy: 0.8401 - val_loss: 0.3721 - val_accuracy: 0.8338\n",
      "Epoch 28/100\n",
      "122/122 [==============================] - 0s 2ms/step - loss: 0.3437 - accuracy: 0.8440 - val_loss: 0.4076 - val_accuracy: 0.8008\n",
      "Epoch 29/100\n",
      "122/122 [==============================] - 0s 2ms/step - loss: 0.3410 - accuracy: 0.8430 - val_loss: 0.3690 - val_accuracy: 0.8215\n",
      "Epoch 30/100\n",
      "122/122 [==============================] - 0s 2ms/step - loss: 0.3398 - accuracy: 0.8442 - val_loss: 0.3639 - val_accuracy: 0.8246\n",
      "Epoch 31/100\n",
      "122/122 [==============================] - 0s 2ms/step - loss: 0.3378 - accuracy: 0.8437 - val_loss: 0.3875 - val_accuracy: 0.8215\n",
      "Epoch 32/100\n",
      "122/122 [==============================] - 0s 2ms/step - loss: 0.3425 - accuracy: 0.8353 - val_loss: 0.3743 - val_accuracy: 0.8177\n",
      "Epoch 33/100\n",
      "122/122 [==============================] - 0s 2ms/step - loss: 0.3358 - accuracy: 0.8442 - val_loss: 0.3728 - val_accuracy: 0.8223\n",
      "Epoch 34/100\n",
      "122/122 [==============================] - 0s 2ms/step - loss: 0.3410 - accuracy: 0.8409 - val_loss: 0.3642 - val_accuracy: 0.8285\n",
      "Epoch 35/100\n",
      "122/122 [==============================] - 0s 2ms/step - loss: 0.3358 - accuracy: 0.8404 - val_loss: 0.3875 - val_accuracy: 0.8215\n",
      "Epoch 36/100\n",
      "122/122 [==============================] - 0s 2ms/step - loss: 0.3398 - accuracy: 0.8422 - val_loss: 0.3850 - val_accuracy: 0.8154\n",
      "Epoch 37/100\n",
      "122/122 [==============================] - 0s 2ms/step - loss: 0.3378 - accuracy: 0.8453 - val_loss: 0.3904 - val_accuracy: 0.8162\n",
      "Epoch 38/100\n",
      "122/122 [==============================] - 0s 2ms/step - loss: 0.3340 - accuracy: 0.8414 - val_loss: 0.3800 - val_accuracy: 0.8292\n",
      "Epoch 39/100\n",
      "122/122 [==============================] - 0s 2ms/step - loss: 0.3417 - accuracy: 0.8368 - val_loss: 0.3749 - val_accuracy: 0.8223\n",
      "Epoch 40/100\n",
      "122/122 [==============================] - 0s 2ms/step - loss: 0.3326 - accuracy: 0.8465 - val_loss: 0.3826 - val_accuracy: 0.8192\n",
      "Epoch 41/100\n",
      "122/122 [==============================] - 0s 2ms/step - loss: 0.3338 - accuracy: 0.8491 - val_loss: 0.3924 - val_accuracy: 0.8300\n",
      "Epoch 42/100\n",
      "122/122 [==============================] - 0s 2ms/step - loss: 0.3311 - accuracy: 0.8427 - val_loss: 0.3692 - val_accuracy: 0.8192\n",
      "Epoch 43/100\n",
      "122/122 [==============================] - 0s 2ms/step - loss: 0.3329 - accuracy: 0.8458 - val_loss: 0.3887 - val_accuracy: 0.8285\n",
      "Epoch 44/100\n",
      "122/122 [==============================] - 0s 2ms/step - loss: 0.3291 - accuracy: 0.8476 - val_loss: 0.3860 - val_accuracy: 0.8269\n",
      "Epoch 45/100\n",
      "122/122 [==============================] - 0s 2ms/step - loss: 0.3360 - accuracy: 0.8476 - val_loss: 0.3659 - val_accuracy: 0.8331\n",
      "Epoch 46/100\n",
      "122/122 [==============================] - 0s 2ms/step - loss: 0.3397 - accuracy: 0.8401 - val_loss: 0.3920 - val_accuracy: 0.8238\n",
      "Epoch 47/100\n",
      "122/122 [==============================] - 0s 2ms/step - loss: 0.3338 - accuracy: 0.8453 - val_loss: 0.3811 - val_accuracy: 0.8308\n",
      "Epoch 48/100\n",
      "122/122 [==============================] - 0s 2ms/step - loss: 0.3289 - accuracy: 0.8494 - val_loss: 0.3808 - val_accuracy: 0.8208\n",
      "Epoch 49/100\n",
      "122/122 [==============================] - 0s 2ms/step - loss: 0.3345 - accuracy: 0.8460 - val_loss: 0.3859 - val_accuracy: 0.8292\n",
      "Epoch 50/100\n",
      "122/122 [==============================] - 0s 2ms/step - loss: 0.3303 - accuracy: 0.8406 - val_loss: 0.3750 - val_accuracy: 0.8177\n",
      "Epoch 51/100\n",
      "122/122 [==============================] - 0s 2ms/step - loss: 0.3215 - accuracy: 0.8491 - val_loss: 0.3997 - val_accuracy: 0.8254\n",
      "Epoch 52/100\n",
      "122/122 [==============================] - 0s 2ms/step - loss: 0.3237 - accuracy: 0.8463 - val_loss: 0.3866 - val_accuracy: 0.8223\n",
      "Epoch 53/100\n",
      "122/122 [==============================] - 0s 2ms/step - loss: 0.3293 - accuracy: 0.8445 - val_loss: 0.3848 - val_accuracy: 0.8177\n",
      "Epoch 54/100\n",
      "122/122 [==============================] - 0s 2ms/step - loss: 0.3202 - accuracy: 0.8460 - val_loss: 0.3842 - val_accuracy: 0.8238\n",
      "Epoch 55/100\n",
      "122/122 [==============================] - 0s 2ms/step - loss: 0.3234 - accuracy: 0.8460 - val_loss: 0.3677 - val_accuracy: 0.8338\n",
      "Epoch 56/100\n",
      "122/122 [==============================] - 0s 2ms/step - loss: 0.3212 - accuracy: 0.8504 - val_loss: 0.3924 - val_accuracy: 0.8254\n",
      "Epoch 57/100\n",
      "122/122 [==============================] - 0s 2ms/step - loss: 0.3261 - accuracy: 0.8468 - val_loss: 0.3837 - val_accuracy: 0.8292\n"
     ]
    },
    {
     "name": "stdout",
     "output_type": "stream",
     "text": [
      "Epoch 58/100\n",
      "122/122 [==============================] - 0s 2ms/step - loss: 0.3263 - accuracy: 0.8442 - val_loss: 0.3878 - val_accuracy: 0.8200\n",
      "Epoch 59/100\n",
      "122/122 [==============================] - 0s 2ms/step - loss: 0.3244 - accuracy: 0.8496 - val_loss: 0.3877 - val_accuracy: 0.8185\n",
      "Epoch 60/100\n",
      "122/122 [==============================] - 0s 2ms/step - loss: 0.3209 - accuracy: 0.8476 - val_loss: 0.3922 - val_accuracy: 0.8223\n",
      "Epoch 61/100\n",
      "122/122 [==============================] - 0s 2ms/step - loss: 0.3204 - accuracy: 0.8471 - val_loss: 0.3858 - val_accuracy: 0.8354\n",
      "Epoch 62/100\n",
      "122/122 [==============================] - 0s 2ms/step - loss: 0.3148 - accuracy: 0.8491 - val_loss: 0.4026 - val_accuracy: 0.8231\n",
      "Epoch 63/100\n",
      "122/122 [==============================] - 0s 2ms/step - loss: 0.3180 - accuracy: 0.8499 - val_loss: 0.4016 - val_accuracy: 0.8146\n",
      "Epoch 64/100\n",
      "122/122 [==============================] - 0s 2ms/step - loss: 0.3133 - accuracy: 0.8476 - val_loss: 0.4034 - val_accuracy: 0.8231\n",
      "Epoch 65/100\n",
      "122/122 [==============================] - 0s 2ms/step - loss: 0.3213 - accuracy: 0.8471 - val_loss: 0.4009 - val_accuracy: 0.8262\n",
      "Epoch 66/100\n",
      "122/122 [==============================] - 0s 2ms/step - loss: 0.3150 - accuracy: 0.8471 - val_loss: 0.3863 - val_accuracy: 0.8331\n",
      "Epoch 67/100\n",
      "122/122 [==============================] - 0s 2ms/step - loss: 0.3145 - accuracy: 0.8514 - val_loss: 0.3874 - val_accuracy: 0.8200\n",
      "Epoch 68/100\n",
      "122/122 [==============================] - 0s 2ms/step - loss: 0.3114 - accuracy: 0.8525 - val_loss: 0.3831 - val_accuracy: 0.8200\n",
      "Epoch 69/100\n",
      "122/122 [==============================] - 0s 2ms/step - loss: 0.3141 - accuracy: 0.8519 - val_loss: 0.3795 - val_accuracy: 0.8369\n",
      "Epoch 70/100\n",
      "122/122 [==============================] - 0s 2ms/step - loss: 0.3167 - accuracy: 0.8514 - val_loss: 0.4090 - val_accuracy: 0.8177\n",
      "Epoch 71/100\n",
      "122/122 [==============================] - 0s 2ms/step - loss: 0.3094 - accuracy: 0.8501 - val_loss: 0.3939 - val_accuracy: 0.8223\n",
      "Epoch 72/100\n",
      "122/122 [==============================] - 0s 2ms/step - loss: 0.3154 - accuracy: 0.8522 - val_loss: 0.3971 - val_accuracy: 0.8115\n",
      "Epoch 73/100\n",
      "122/122 [==============================] - 0s 2ms/step - loss: 0.3093 - accuracy: 0.8507 - val_loss: 0.3946 - val_accuracy: 0.8331\n",
      "Epoch 74/100\n",
      "122/122 [==============================] - 0s 2ms/step - loss: 0.3141 - accuracy: 0.8478 - val_loss: 0.3961 - val_accuracy: 0.8223\n",
      "Epoch 75/100\n",
      "122/122 [==============================] - 0s 2ms/step - loss: 0.3144 - accuracy: 0.8530 - val_loss: 0.3959 - val_accuracy: 0.8385\n",
      "Epoch 76/100\n",
      "122/122 [==============================] - 0s 2ms/step - loss: 0.3113 - accuracy: 0.8512 - val_loss: 0.4313 - val_accuracy: 0.8308\n",
      "Epoch 77/100\n",
      "122/122 [==============================] - 0s 2ms/step - loss: 0.3149 - accuracy: 0.8476 - val_loss: 0.3912 - val_accuracy: 0.8308\n",
      "Epoch 78/100\n",
      "122/122 [==============================] - 0s 2ms/step - loss: 0.3095 - accuracy: 0.8471 - val_loss: 0.4068 - val_accuracy: 0.8108\n",
      "Epoch 79/100\n",
      "122/122 [==============================] - 0s 2ms/step - loss: 0.3103 - accuracy: 0.8535 - val_loss: 0.3969 - val_accuracy: 0.8277\n",
      "Epoch 80/100\n",
      "122/122 [==============================] - 0s 2ms/step - loss: 0.3093 - accuracy: 0.8517 - val_loss: 0.4179 - val_accuracy: 0.8408\n",
      "Epoch 81/100\n",
      "122/122 [==============================] - 0s 2ms/step - loss: 0.3116 - accuracy: 0.8481 - val_loss: 0.3920 - val_accuracy: 0.8254\n",
      "Epoch 82/100\n",
      "122/122 [==============================] - 0s 2ms/step - loss: 0.3055 - accuracy: 0.8535 - val_loss: 0.4010 - val_accuracy: 0.8300\n",
      "Epoch 83/100\n",
      "122/122 [==============================] - 0s 2ms/step - loss: 0.3153 - accuracy: 0.8486 - val_loss: 0.3917 - val_accuracy: 0.8362\n",
      "Epoch 84/100\n",
      "122/122 [==============================] - 0s 2ms/step - loss: 0.2995 - accuracy: 0.8591 - val_loss: 0.4073 - val_accuracy: 0.8262\n",
      "Epoch 85/100\n",
      "122/122 [==============================] - 0s 2ms/step - loss: 0.3009 - accuracy: 0.8548 - val_loss: 0.4016 - val_accuracy: 0.8215\n",
      "Epoch 86/100\n",
      "122/122 [==============================] - 0s 2ms/step - loss: 0.3055 - accuracy: 0.8514 - val_loss: 0.3969 - val_accuracy: 0.8385\n",
      "Epoch 87/100\n",
      "122/122 [==============================] - 0s 2ms/step - loss: 0.3049 - accuracy: 0.8517 - val_loss: 0.4128 - val_accuracy: 0.8308\n",
      "Epoch 88/100\n",
      "122/122 [==============================] - 0s 2ms/step - loss: 0.3045 - accuracy: 0.8563 - val_loss: 0.4026 - val_accuracy: 0.8223\n",
      "Epoch 89/100\n",
      "122/122 [==============================] - 0s 2ms/step - loss: 0.3099 - accuracy: 0.8471 - val_loss: 0.3792 - val_accuracy: 0.8369\n",
      "Epoch 90/100\n",
      "122/122 [==============================] - 0s 2ms/step - loss: 0.3003 - accuracy: 0.8586 - val_loss: 0.3971 - val_accuracy: 0.8308\n",
      "Epoch 91/100\n",
      "122/122 [==============================] - 0s 2ms/step - loss: 0.3008 - accuracy: 0.8548 - val_loss: 0.4025 - val_accuracy: 0.8262\n",
      "Epoch 92/100\n",
      "122/122 [==============================] - 0s 2ms/step - loss: 0.2945 - accuracy: 0.8591 - val_loss: 0.4250 - val_accuracy: 0.8246\n",
      "Epoch 93/100\n",
      "122/122 [==============================] - 0s 2ms/step - loss: 0.2962 - accuracy: 0.8555 - val_loss: 0.4184 - val_accuracy: 0.8223\n",
      "Epoch 94/100\n",
      "122/122 [==============================] - 0s 2ms/step - loss: 0.2931 - accuracy: 0.8640 - val_loss: 0.4064 - val_accuracy: 0.8285\n",
      "Epoch 95/100\n",
      "122/122 [==============================] - 0s 2ms/step - loss: 0.3025 - accuracy: 0.8522 - val_loss: 0.3815 - val_accuracy: 0.8331\n",
      "Epoch 96/100\n",
      "122/122 [==============================] - 0s 2ms/step - loss: 0.2943 - accuracy: 0.8591 - val_loss: 0.3940 - val_accuracy: 0.8300\n",
      "Epoch 97/100\n",
      "122/122 [==============================] - 0s 2ms/step - loss: 0.3024 - accuracy: 0.8550 - val_loss: 0.4009 - val_accuracy: 0.8346\n",
      "Epoch 98/100\n",
      "122/122 [==============================] - 0s 2ms/step - loss: 0.2973 - accuracy: 0.8586 - val_loss: 0.3923 - val_accuracy: 0.8315\n",
      "Epoch 99/100\n",
      "122/122 [==============================] - 0s 2ms/step - loss: 0.2931 - accuracy: 0.8643 - val_loss: 0.4556 - val_accuracy: 0.8269\n",
      "Epoch 100/100\n",
      "122/122 [==============================] - 0s 2ms/step - loss: 0.2907 - accuracy: 0.8617 - val_loss: 0.4230 - val_accuracy: 0.8262\n"
     ]
    }
   ],
   "source": [
    "his = model.fit(train_X, train_Y, epochs=100, batch_size=32, validation_split=0.25)"
   ]
  },
  {
   "cell_type": "code",
   "execution_count": 58,
   "metadata": {},
   "outputs": [
    {
     "data": {
      "image/png": "[encoded data removed]",
      "text/plain": [
       "<Figure size 864x288 with 2 Axes>"
      ]
     },
     "metadata": {
      "needs_background": "light"
     },
     "output_type": "display_data"
    }
   ],
   "source": [
    "plt.figure(figsize=(12,4))\n",
    "\n",
    "plt.subplot(1, 2, 1)\n",
    "plt.plot(his.history['loss'], 'b-', label='loss')\n",
    "plt.plot(his.history['val_loss'], 'r--', label='val_loss')\n",
    "plt.xlabel('Epoch')\n",
    "plt.legend()\n",
    "\n",
    "plt.subplot(1, 2, 2)\n",
    "plt.plot(his.history['accuracy'], 'g-', label='accuracy')\n",
    "plt.plot(his.history['val_accuracy'], 'k--', label='val_accuracy')\n",
    "plt.xlabel('Epoch')\n",
    "plt.ylim(0.7, 1)\n",
    "plt.legend()\n",
    "\n",
    "plt.show()"
   ]
  },
  {
   "cell_type": "code",
   "execution_count": 59,
   "metadata": {},
   "outputs": [
    {
     "name": "stdout",
     "output_type": "stream",
     "text": [
      "41/41 [==============================] - 0s 1ms/step - loss: 0.3849 - accuracy: 0.8292\n"
     ]
    },
    {
     "data": {
      "text/plain": [
       "[0.38491445779800415, 0.829230785369873]"
      ]
     },
     "execution_count": 59,
     "metadata": {},
     "output_type": "execute_result"
    }
   ],
   "source": [
    "model.evaluate(test_X, test_Y)"
   ]
  },
  {
   "cell_type": "code",
   "execution_count": null,
   "metadata": {},
   "outputs": [],
   "source": []
  },
  {
   "cell_type": "code",
   "execution_count": null,
   "metadata": {},
   "outputs": [],
   "source": []
  }
 ],
 "metadata": {
  "kernelspec": {
   "display_name": "tensorflow2",
   "language": "python",
   "name": "tensorflow2"
  },
  "language_info": {
   "codemirror_mode": {
    "name": "ipython",
    "version": 3
   },
   "file_extension": ".py",
   "mimetype": "text/x-python",
   "name": "python",
   "nbconvert_exporter": "python",
   "pygments_lexer": "ipython3",
   "version": "3.7.7"
  }
 },
 "nbformat": 4,
 "nbformat_minor": 4
}
