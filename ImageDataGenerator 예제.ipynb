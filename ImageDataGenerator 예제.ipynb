{
 "cells": [
  {
   "cell_type": "code",
   "execution_count": 1,
   "metadata": {},
   "outputs": [],
   "source": [
    "import numpy as np\n",
    "import matplotlib.pyplot as plt\n",
    "import os, cv2\n",
    "import tensorflow as tf"
   ]
  },
  {
   "cell_type": "code",
   "execution_count": 2,
   "metadata": {},
   "outputs": [],
   "source": [
    "from tensorflow.keras.preprocessing.image import ImageDataGenerator, load_img, img_to_array\n",
    "datagen = ImageDataGenerator(\n",
    "    rotation_range = 1,\n",
    "    width_shift_range = 0.15,\n",
    "    height_shift_range = 0.15,\n",
    "    horizontal_flip = True\n",
    ")"
   ]
  },
  {
   "cell_type": "code",
   "execution_count": 4,
   "metadata": {
    "scrolled": false
   },
   "outputs": [
    {
     "name": "stdout",
     "output_type": "stream",
     "text": [
      "Found 3052 images belonging to 1 classes.\n"
     ]
    }
   ],
   "source": [
    "train = datagen.flow_from_directory('D:/Arthur_Noh/Lab/Black_ice/IMG_DATA_PADDING/blackice/',\n",
    "                                    target_size = (150, 150),\n",
    "                                    batch_size = 300,\n",
    "                                    save_to_dir = 'D:/Arthur_Noh/Lab/IDG_image/train/blackice/'\n",
    "                                   )"
   ]
  },
  {
   "cell_type": "code",
   "execution_count": 5,
   "metadata": {
    "scrolled": true
   },
   "outputs": [],
   "source": [
    "i = 0\n",
    "for batch in train:\n",
    "    i += 1\n",
    "    if(i>= 5):\n",
    "        break"
   ]
  },
  {
   "cell_type": "code",
   "execution_count": null,
   "metadata": {},
   "outputs": [],
   "source": []
  },
  {
   "cell_type": "code",
   "execution_count": null,
   "metadata": {},
   "outputs": [],
   "source": []
  },
  {
   "cell_type": "code",
   "execution_count": 7,
   "metadata": {},
   "outputs": [],
   "source": [
    "BASE_DIR = 'D:/Arthur_Noh/Lab/Black_ice/IMG_DATA_PADDING'\n",
    "DIR_CATEGORIES = ['blackice', 'dry', 'wet', 'snow']\n",
    "DETAIL_DIR = 'img_150'\n",
    "GENERATE_DIR = 'D:/Arthur_Noh/Lab/IDG_image/train'\n",
    "\n",
    "\n",
    "for category in DIR_CATEGORIES:\n",
    "    path = os.path.join(BASE_DIR, category, DETAIL_DIR)\n",
    "    class_idx = DIR_CATEGORIES.index(category)\n",
    "    \n",
    "    for img in os.listdir(path):\n",
    "        try:\n",
    "            img_arr = cv2.imread(os.path.join(path, img),\n",
    "                                cv2.IMREAD_COLOR)\n",
    "            img_np = np.array(img_arr)\n",
    "            img_np = img_np.reshape((1,) + img_np.shape)\n",
    "            \n",
    "            number_to_generate = 0\n",
    "            \n",
    "            for batch in datagen.flow(img_np,\n",
    "                                      batch_size = 1,\n",
    "                                      save_to_dir = os.path.join(GENERATE_DIR,\n",
    "                                                                 category),\n",
    "                                      save_prefix = category,\n",
    "                                      save_format = 'jpg'):\n",
    "                number_to_generate += 1\n",
    "                \n",
    "                if number_to_generate > 10:\n",
    "                    break\n",
    "        except Exception as e:\n",
    "            pass"
   ]
  },
  {
   "cell_type": "code",
   "execution_count": 3,
   "metadata": {},
   "outputs": [],
   "source": [
    "BASE_DIR = 'D:/Arthur_Noh/Lab/Black_ice/IMG_DATA_PADDING'\n",
    "DIR_CATEGORIES = 'blackice'\n",
    "DETAIL_DIR = 'img_150'\n",
    "GENERATE_DIR = 'D:/Arthur_Noh/Lab/IDG_image/train'\n",
    "\n",
    "path = os.path.join(BASE_DIR, DIR_CATEGORIES, DETAIL_DIR)\n",
    "\n",
    "for img in os.listdir(path):\n",
    "        try:\n",
    "            img_arr = cv2.imread(os.path.join(path, img),\n",
    "                                cv2.IMREAD_COLOR)\n",
    "            img_np = np.array(img_arr)\n",
    "            img_np = img_np.reshape((1,) + img_np.shape)\n",
    "            \n",
    "            number_to_generate = 0\n",
    "            \n",
    "            for batch in datagen.flow(img_np,\n",
    "                                      batch_size = 1,\n",
    "                                      save_to_dir = 'blackice',\n",
    "                                      save_prefix = DIR_CATEGORIES,\n",
    "                                      save_format = 'jpg'):\n",
    "                number_to_generate += 1   \n",
    "                if number_to_generate > 10:\n",
    "                    break\n",
    "                    \n",
    "        except Exception as e:\n",
    "            pass"
   ]
  },
  {
   "cell_type": "code",
   "execution_count": 3,
   "metadata": {},
   "outputs": [
    {
     "name": "stdout",
     "output_type": "stream",
     "text": [
      "D:/Arthur_Noh/Lab/Black_ice/IMG_DATA_PADDING\\blackice\\img_150\n"
     ]
    }
   ],
   "source": [
    "BASE_DIR = 'D:/Arthur_Noh/Lab/Black_ice/IMG_DATA_PADDING'\n",
    "DIR_CATEGORIES = 'blackice'\n",
    "DETAIL_DIR = 'img_150'\n",
    "GENERATE_DIR = 'D:/Arthur_Noh/Lab/IDG_image/train'\n",
    "\n",
    "path = os.path.join(BASE_DIR, DIR_CATEGORIES, DETAIL_DIR)\n",
    "print(path)"
   ]
  },
  {
   "cell_type": "code",
   "execution_count": 14,
   "metadata": {},
   "outputs": [
    {
     "name": "stdout",
     "output_type": "stream",
     "text": [
      "Found 3000 images belonging to 1 classes.\n"
     ]
    }
   ],
   "source": [
    "train = datagen.flow_from_directory('D:/Arthur_Noh/Lab/Black_ice/IMG_DATA_PADDING/blackice',\n",
    "                                    target_size = (150, 150),\n",
    "                                    save_to_dir = 'D:/Arthur_Noh/Lab/IDG_image/train/blackice'\n",
    "                                   )\n"
   ]
  },
  {
   "cell_type": "code",
   "execution_count": 16,
   "metadata": {},
   "outputs": [],
   "source": [
    "number_to_generate = 0\n",
    "for batch in train:\n",
    "    number_to_generate += 1\n",
    "    if(number_to_generate>= 10):\n",
    "        break"
   ]
  },
  {
   "cell_type": "code",
   "execution_count": null,
   "metadata": {},
   "outputs": [],
   "source": []
  }
 ],
 "metadata": {
  "kernelspec": {
   "display_name": "tensorflow2",
   "language": "python",
   "name": "tensorflow2"
  },
  "language_info": {
   "codemirror_mode": {
    "name": "ipython",
    "version": 3
   },
   "file_extension": ".py",
   "mimetype": "text/x-python",
   "name": "python",
   "nbconvert_exporter": "python",
   "pygments_lexer": "ipython3",
   "version": "3.7.7"
  }
 },
 "nbformat": 4,
 "nbformat_minor": 4
}
