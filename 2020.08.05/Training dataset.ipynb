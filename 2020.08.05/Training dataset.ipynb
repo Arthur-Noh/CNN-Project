{
 "cells": [
  {
   "cell_type": "code",
   "execution_count": 1,
   "metadata": {},
   "outputs": [],
   "source": [
    "import numpy as np\n",
    "import tensorflow as tf\n",
    "import matplotlib.pyplot as plt"
   ]
  },
  {
   "cell_type": "code",
   "execution_count": 2,
   "metadata": {},
   "outputs": [
    {
     "name": "stdout",
     "output_type": "stream",
     "text": [
      "1 Physical GPUs, 1 Logical GPUs\n"
     ]
    }
   ],
   "source": [
    "gpus=tf.config.experimental.list_physical_devices('GPU')\n",
    "if gpus:\n",
    "    try:\n",
    "     # Currently, memory growth needs to be the same across GPUs\n",
    "        for gpu in gpus:\n",
    "            tf.config.experimental.set_memory_growth(gpu,True)\n",
    "        logical_gpus=tf.config.experimental.list_logical_devices('GPU')\n",
    "        print(len(gpus),\"Physical GPUs,\",len(logical_gpus),\"Logical GPUs\")\n",
    "    except RuntimeError as e:\n",
    "        #Memory growth must be set before GPUs have been initialized\n",
    "        print(e)"
   ]
  },
  {
   "cell_type": "code",
   "execution_count": 2,
   "metadata": {},
   "outputs": [],
   "source": [
    "# Fix error\n",
    "# [ValueError: Object arrays cannot be loaded when allow_pickle=True]\n",
    "# When loading data\n",
    "np_load_old = np.load\n",
    "np.load = lambda *a, **k: np_load_old(*a, allow_pickle=True, **k)"
   ]
  },
  {
   "cell_type": "code",
   "execution_count": 3,
   "metadata": {},
   "outputs": [],
   "source": [
    "# Training start\n",
    "X_train, X_test, y_train, y_test = np.load('./Black_ice_Detection.npy')"
   ]
  },
  {
   "cell_type": "code",
   "execution_count": 4,
   "metadata": {},
   "outputs": [
    {
     "name": "stdout",
     "output_type": "stream",
     "text": [
      "(14400, 150, 150, 3) (14400, 4)\n",
      "(3600, 150, 150, 3) (3600, 4)\n"
     ]
    }
   ],
   "source": [
    "# Check dataset shape\n",
    "print(X_train.shape, y_train.shape)\n",
    "print(X_test.shape, y_test.shape)"
   ]
  },
  {
   "cell_type": "code",
   "execution_count": 5,
   "metadata": {},
   "outputs": [],
   "source": [
    "categories = ['blackice', 'dry', 'wet', 'snow']\n",
    "nb_classes = len(categories)"
   ]
  },
  {
   "cell_type": "code",
   "execution_count": 6,
   "metadata": {},
   "outputs": [],
   "source": [
    "# Create training model\n",
    "model = tf.keras.Sequential([\n",
    "    tf.keras.layers.Conv2D(input_shape=(150, 150, 3),\n",
    "                          kernel_size=(3,3), filters=32,\n",
    "                          padding='same', activation='relu'),\n",
    "    tf.keras.layers.MaxPool2D(pool_size=(2,2)),\n",
    "    tf.keras.layers.Dropout(rate=0.25),\n",
    "    \n",
    "    tf.keras.layers.Conv2D(kernel_size=(3,3), filters=64,\n",
    "                          padding='same', activation='relu'),\n",
    "    tf.keras.layers.MaxPool2D(pool_size=(2,2)),\n",
    "    tf.keras.layers.Dropout(rate=0.25),\n",
    "    \n",
    "    tf.keras.layers.Conv2D(kernel_size=(3,3), filters=128,\n",
    "                          padding='same', activation='relu'),\n",
    "    tf.keras.layers.MaxPool2D(pool_size=(2,2)),\n",
    "    tf.keras.layers.Dropout(rate=0.25),\n",
    "    \n",
    "    tf.keras.layers.Flatten(),\n",
    "    \n",
    "    tf.keras.layers.Dense(units=256, activation='relu'),\n",
    "    tf.keras.layers.Dropout(rate=0.25),\n",
    "    tf.keras.layers.Dense(units=128, activation='relu'),\n",
    "    tf.keras.layers.Dropout(rate=0.25),\n",
    "    tf.keras.layers.Dense(units=nb_classes, activation='softmax')\n",
    "])"
   ]
  },
  {
   "cell_type": "code",
   "execution_count": 7,
   "metadata": {},
   "outputs": [],
   "source": [
    "model.compile(\n",
    "    optimizer = tf.keras.optimizers.Adam(),\n",
    "    loss = 'categorical_crossentropy',\n",
    "    metrics = ['accuracy']\n",
    ")"
   ]
  },
  {
   "cell_type": "code",
   "execution_count": 8,
   "metadata": {},
   "outputs": [
    {
     "name": "stdout",
     "output_type": "stream",
     "text": [
      "Model: \"sequential\"\n",
      "_________________________________________________________________\n",
      "Layer (type)                 Output Shape              Param #   \n",
      "=================================================================\n",
      "conv2d (Conv2D)              (None, 150, 150, 32)      896       \n",
      "_________________________________________________________________\n",
      "max_pooling2d (MaxPooling2D) (None, 75, 75, 32)        0         \n",
      "_________________________________________________________________\n",
      "dropout (Dropout)            (None, 75, 75, 32)        0         \n",
      "_________________________________________________________________\n",
      "conv2d_1 (Conv2D)            (None, 75, 75, 64)        18496     \n",
      "_________________________________________________________________\n",
      "max_pooling2d_1 (MaxPooling2 (None, 37, 37, 64)        0         \n",
      "_________________________________________________________________\n",
      "dropout_1 (Dropout)          (None, 37, 37, 64)        0         \n",
      "_________________________________________________________________\n",
      "conv2d_2 (Conv2D)            (None, 37, 37, 128)       73856     \n",
      "_________________________________________________________________\n",
      "max_pooling2d_2 (MaxPooling2 (None, 18, 18, 128)       0         \n",
      "_________________________________________________________________\n",
      "dropout_2 (Dropout)          (None, 18, 18, 128)       0         \n",
      "_________________________________________________________________\n",
      "flatten (Flatten)            (None, 41472)             0         \n",
      "_________________________________________________________________\n",
      "dense (Dense)                (None, 256)               10617088  \n",
      "_________________________________________________________________\n",
      "dropout_3 (Dropout)          (None, 256)               0         \n",
      "_________________________________________________________________\n",
      "dense_1 (Dense)              (None, 128)               32896     \n",
      "_________________________________________________________________\n",
      "dropout_4 (Dropout)          (None, 128)               0         \n",
      "_________________________________________________________________\n",
      "dense_2 (Dense)              (None, 4)                 516       \n",
      "=================================================================\n",
      "Total params: 10,743,748\n",
      "Trainable params: 10,743,748\n",
      "Non-trainable params: 0\n",
      "_________________________________________________________________\n"
     ]
    }
   ],
   "source": [
    "model.summary()"
   ]
  },
  {
   "cell_type": "code",
   "execution_count": 9,
   "metadata": {},
   "outputs": [],
   "source": [
    "# generalization\n",
    "#X_train = X_train / 255.0\n",
    "#X_test = X_test / 255.0"
   ]
  },
  {
   "cell_type": "code",
   "execution_count": 9,
   "metadata": {
    "scrolled": true
   },
   "outputs": [
    {
     "name": "stdout",
     "output_type": "stream",
     "text": [
      "Epoch 1/20\n",
      "338/338 [==============================] - 8s 24ms/step - loss: 0.7932 - accuracy: 0.6387 - val_loss: 0.5292 - val_accuracy: 0.7753\n",
      "Epoch 2/20\n",
      "338/338 [==============================] - 8s 23ms/step - loss: 0.4613 - accuracy: 0.8031 - val_loss: 0.4671 - val_accuracy: 0.8106\n",
      "Epoch 3/20\n",
      "338/338 [==============================] - 8s 23ms/step - loss: 0.4100 - accuracy: 0.8156 - val_loss: 0.3332 - val_accuracy: 0.8806\n",
      "Epoch 4/20\n",
      "338/338 [==============================] - 8s 23ms/step - loss: 0.3773 - accuracy: 0.8426 - val_loss: 0.4273 - val_accuracy: 0.8261\n",
      "Epoch 5/20\n",
      "338/338 [==============================] - 8s 23ms/step - loss: 0.3318 - accuracy: 0.8610 - val_loss: 0.2732 - val_accuracy: 0.8961\n",
      "Epoch 6/20\n",
      "338/338 [==============================] - 8s 23ms/step - loss: 0.3031 - accuracy: 0.8791 - val_loss: 0.2647 - val_accuracy: 0.9133\n",
      "Epoch 7/20\n",
      "338/338 [==============================] - 8s 23ms/step - loss: 0.2895 - accuracy: 0.8859 - val_loss: 0.2859 - val_accuracy: 0.8961\n",
      "Epoch 8/20\n",
      "338/338 [==============================] - 8s 23ms/step - loss: 0.2548 - accuracy: 0.8996 - val_loss: 0.2831 - val_accuracy: 0.9078\n",
      "Epoch 9/20\n",
      "338/338 [==============================] - 8s 23ms/step - loss: 0.2463 - accuracy: 0.9025 - val_loss: 0.2601 - val_accuracy: 0.9103\n",
      "Epoch 10/20\n",
      "338/338 [==============================] - 8s 23ms/step - loss: 0.2150 - accuracy: 0.9209 - val_loss: 0.2616 - val_accuracy: 0.9181\n",
      "Epoch 11/20\n",
      "338/338 [==============================] - 8s 23ms/step - loss: 0.2076 - accuracy: 0.9209 - val_loss: 0.2346 - val_accuracy: 0.9172\n",
      "Epoch 12/20\n",
      "338/338 [==============================] - 8s 23ms/step - loss: 0.1893 - accuracy: 0.9294 - val_loss: 0.2249 - val_accuracy: 0.9194\n",
      "Epoch 13/20\n",
      "338/338 [==============================] - 8s 23ms/step - loss: 0.1800 - accuracy: 0.9313 - val_loss: 0.2093 - val_accuracy: 0.9325\n",
      "Epoch 14/20\n",
      "338/338 [==============================] - 8s 23ms/step - loss: 0.1694 - accuracy: 0.9369 - val_loss: 0.3101 - val_accuracy: 0.9006\n",
      "Epoch 15/20\n",
      "338/338 [==============================] - 8s 23ms/step - loss: 0.1585 - accuracy: 0.9444 - val_loss: 0.3114 - val_accuracy: 0.9028\n",
      "Epoch 16/20\n",
      "338/338 [==============================] - 8s 23ms/step - loss: 0.1544 - accuracy: 0.9383 - val_loss: 0.2843 - val_accuracy: 0.9019\n",
      "Epoch 17/20\n",
      "338/338 [==============================] - 8s 23ms/step - loss: 0.1384 - accuracy: 0.9475 - val_loss: 0.2423 - val_accuracy: 0.9300\n",
      "Epoch 18/20\n",
      "338/338 [==============================] - 8s 23ms/step - loss: 0.1374 - accuracy: 0.9482 - val_loss: 0.2539 - val_accuracy: 0.9192\n",
      "Epoch 19/20\n",
      "338/338 [==============================] - 8s 23ms/step - loss: 0.1278 - accuracy: 0.9519 - val_loss: 0.3356 - val_accuracy: 0.9019\n",
      "Epoch 20/20\n",
      "338/338 [==============================] - 8s 23ms/step - loss: 0.1121 - accuracy: 0.9561 - val_loss: 0.1942 - val_accuracy: 0.9464\n"
     ]
    }
   ],
   "source": [
    "# Training start\n",
    "history = model.fit(X_train, y_train, epochs=20, validation_split=0.25)"
   ]
  },
  {
   "cell_type": "code",
   "execution_count": 10,
   "metadata": {},
   "outputs": [
    {
     "name": "stdout",
     "output_type": "stream",
     "text": [
      "113/113 [==============================] - 1s 9ms/step - loss: 0.2093 - accuracy: 0.9358\n",
      "정확도 : 0.9358\n"
     ]
    }
   ],
   "source": [
    "# Evaluate\n",
    "print(\"정확도 : %.4f\"%(model.evaluate(X_test, y_test)[1]))"
   ]
  },
  {
   "cell_type": "code",
   "execution_count": 11,
   "metadata": {},
   "outputs": [
    {
     "name": "stdout",
     "output_type": "stream",
     "text": [
      "113/113 [==============================] - 1s 9ms/step - loss: 0.2093 - accuracy: 0.9358\n"
     ]
    },
    {
     "data": {
      "text/plain": [
       "[0.2092582881450653, 0.9358333349227905]"
      ]
     },
     "execution_count": 11,
     "metadata": {},
     "output_type": "execute_result"
    }
   ],
   "source": [
    "model.evaluate(X_test, y_test)"
   ]
  },
  {
   "cell_type": "code",
   "execution_count": 12,
   "metadata": {},
   "outputs": [
    {
     "data": {
      "image/png": "[encoded data removed]",
      "text/plain": [
       "<Figure size 864x288 with 2 Axes>"
      ]
     },
     "metadata": {
      "needs_background": "light"
     },
     "output_type": "display_data"
    }
   ],
   "source": [
    "# Show loss, accuracy graph\n",
    "plt.figure(figsize=(12,4))\n",
    "\n",
    "plt.subplot(1, 2, 1)\n",
    "plt.plot(history.history['loss'], 'b-', label='loss')\n",
    "plt.plot(history.history['val_loss'], 'r--', label='val-loss')\n",
    "plt.xlabel('Epoch')\n",
    "plt.legend()\n",
    "\n",
    "plt.subplot(1, 2, 2)\n",
    "plt.plot(history.history['accuracy'], 'g-', label='accuracy')\n",
    "plt.plot(history.history['val_accuracy'], 'k--', label='val-accuracy')\n",
    "plt.xlabel('Epoch')\n",
    "plt.legend()\n",
    "\n",
    "plt.show()"
   ]
  },
  {
   "cell_type": "code",
   "execution_count": null,
   "metadata": {},
   "outputs": [],
   "source": [
    "# Evaluate model use other image\n"
   ]
  }
 ],
 "metadata": {
  "kernelspec": {
   "display_name": "Python 3",
   "language": "python",
   "name": "python3"
  },
  "language_info": {
   "codemirror_mode": {
    "name": "ipython",
    "version": 3
   },
   "file_extension": ".py",
   "mimetype": "text/x-python",
   "name": "python",
   "nbconvert_exporter": "python",
   "pygments_lexer": "ipython3",
   "version": "3.7.7"
  }
 },
 "nbformat": 4,
 "nbformat_minor": 4
}
