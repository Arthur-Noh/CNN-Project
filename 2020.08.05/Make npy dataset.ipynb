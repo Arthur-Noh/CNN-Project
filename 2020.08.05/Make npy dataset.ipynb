{
 "cells": [
  {
   "cell_type": "code",
   "execution_count": 1,
   "metadata": {},
   "outputs": [],
   "source": [
    "import os, cv2\n",
    "import numpy as np\n",
    "import tensorflow as tf\n",
    "from sklearn.model_selection import train_test_split"
   ]
  },
  {
   "cell_type": "code",
   "execution_count": 2,
   "metadata": {},
   "outputs": [],
   "source": [
    "BASE_DIR = 'D:/Arthur_Noh/Lab/IDG_image/train'\n",
    "CATEGORIES = ['blackice', 'dry', 'wet', 'snow']\n",
    "nb_classes = len(CATEGORIES)\n",
    "\n",
    "IMAGE_SIZE = 150\n",
    "\n",
    "X = []\n",
    "Y = []"
   ]
  },
  {
   "cell_type": "code",
   "execution_count": 3,
   "metadata": {
    "scrolled": false
   },
   "outputs": [
    {
     "name": "stdout",
     "output_type": "stream",
     "text": [
      "blackice 의 파일 길이 :  4500\n",
      "blackice : 03491.jpg\n",
      "blackice : 00363.jpg\n",
      "blackice : 03165.jpg\n",
      "blackice : 01553.jpg\n",
      "blackice : 02553.jpg\n",
      "\n",
      "\n",
      "dry 의 파일 길이 :  4500\n",
      "dry : 04500.jpg\n",
      "dry : 01000.jpg\n",
      "dry : 02000.jpg\n",
      "dry : 03000.jpg\n",
      "dry : 04000.jpg\n",
      "\n",
      "\n",
      "wet 의 파일 길이 :  4500\n",
      "wet : 04500.jpg\n",
      "wet : 01000.jpg\n",
      "wet : 02000.jpg\n",
      "wet : 03000.jpg\n",
      "wet : 04000.jpg\n",
      "\n",
      "\n",
      "snow 의 파일 길이 :  4500\n",
      "snow : 04500.jpg\n",
      "snow : 01000.jpg\n",
      "snow : 02000.jpg\n",
      "snow : 03000.jpg\n",
      "snow : 04000.jpg\n",
      "\n",
      "\n"
     ]
    }
   ],
   "source": [
    "for idx, category in enumerate(CATEGORIES):\n",
    "    # one-hot incoding\n",
    "    label = [0 for i in range(nb_classes)]\n",
    "    label[idx] = 1\n",
    "    \n",
    "    path = os.path.join(BASE_DIR, category)\n",
    "    # check to see if read images work\n",
    "    print(category, '의 파일 길이 : ', len(os.listdir(path)))\n",
    "    \n",
    "    for i, image in enumerate(os.listdir(path)):\n",
    "        img = cv2.imread(os.path.join(path, image),\n",
    "                        cv2.IMREAD_COLOR)\n",
    "        \n",
    "        # Convert cv2 BRG image to RGB image\n",
    "        b, g, r = cv2.split(img)\n",
    "        img = cv2.merge([r, g, b])\n",
    "        \n",
    "        # Make image size that we want\n",
    "        img = cv2.resize(img, (IMAGE_SIZE, IMAGE_SIZE))\n",
    "        data = np.array(img)\n",
    "        \n",
    "        # input data in temp variable\n",
    "        X.append(data)\n",
    "        Y.append(label)\n",
    "        \n",
    "        # check image lists\n",
    "        if i % 1000 == 0:\n",
    "            print(category, ':', image)\n",
    "    print('\\n')"
   ]
  },
  {
   "cell_type": "code",
   "execution_count": 4,
   "metadata": {},
   "outputs": [],
   "source": [
    "# Exam\n",
    "# 1 0 0 0 == blackice\n",
    "# 0 1 0 0 == dry\n",
    "\n",
    "X = np.array(X)\n",
    "Y = np.array(Y)"
   ]
  },
  {
   "cell_type": "code",
   "execution_count": 5,
   "metadata": {},
   "outputs": [
    {
     "name": "stdout",
     "output_type": "stream",
     "text": [
      "Data length(X) :  18000\n",
      "Data length(Y) :  18000\n"
     ]
    }
   ],
   "source": [
    "print('Data length(X) : ', len(X))\n",
    "print('Data length(Y) : ', len(Y))"
   ]
  },
  {
   "cell_type": "code",
   "execution_count": 6,
   "metadata": {},
   "outputs": [
    {
     "data": {
      "text/plain": [
       "dtype('uint8')"
      ]
     },
     "execution_count": 6,
     "metadata": {},
     "output_type": "execute_result"
    }
   ],
   "source": [
    "X.dtype"
   ]
  },
  {
   "cell_type": "code",
   "execution_count": 7,
   "metadata": {},
   "outputs": [],
   "source": [
    "X_train, X_test, y_train, y_test = train_test_split(X, Y, test_size=0.2)"
   ]
  },
  {
   "cell_type": "code",
   "execution_count": 8,
   "metadata": {
    "scrolled": true
   },
   "outputs": [
    {
     "name": "stdout",
     "output_type": "stream",
     "text": [
      "[[[255 255 255]\n",
      "  [255 255 255]\n",
      "  [255 255 255]\n",
      "  ...\n",
      "  [255 255 255]\n",
      "  [255 255 255]\n",
      "  [255 255 255]]\n",
      "\n",
      " [[255 255 255]\n",
      "  [255 255 255]\n",
      "  [255 255 255]\n",
      "  ...\n",
      "  [255 255 255]\n",
      "  [255 255 255]\n",
      "  [255 255 255]]\n",
      "\n",
      " [[255 255 255]\n",
      "  [255 255 255]\n",
      "  [255 255 255]\n",
      "  ...\n",
      "  [255 255 255]\n",
      "  [255 255 255]\n",
      "  [255 255 255]]\n",
      "\n",
      " ...\n",
      "\n",
      " [[255 255 255]\n",
      "  [255 255 255]\n",
      "  [255 255 255]\n",
      "  ...\n",
      "  [255 255 255]\n",
      "  [255 255 255]\n",
      "  [255 255 255]]\n",
      "\n",
      " [[255 255 255]\n",
      "  [255 255 255]\n",
      "  [255 255 255]\n",
      "  ...\n",
      "  [255 255 255]\n",
      "  [255 255 255]\n",
      "  [255 255 255]]\n",
      "\n",
      " [[255 255 255]\n",
      "  [255 255 255]\n",
      "  [255 255 255]\n",
      "  ...\n",
      "  [255 255 255]\n",
      "  [255 255 255]\n",
      "  [255 255 255]]]\n"
     ]
    }
   ],
   "source": [
    "print(X_train[1])"
   ]
  },
  {
   "cell_type": "code",
   "execution_count": 9,
   "metadata": {},
   "outputs": [],
   "source": [
    "# generalization\n",
    "X_train = X_train.astype('float16') / 255.0\n",
    "X_test = X_test.astype('float16') / 255.0"
   ]
  },
  {
   "cell_type": "code",
   "execution_count": 10,
   "metadata": {},
   "outputs": [],
   "source": [
    "xy = (X_train, X_test, y_train, y_test)\n",
    "# Code has error\n",
    "# Error\n",
    "# [OverflowError: cannot serialize a bytes object larger than 4 GiB]\n",
    "# np.save('./Black_ice_Detection.npy', xy)\n",
    "\n",
    "# So i use pickle, protocol=4\n",
    "import pickle\n",
    "pickle.dump(xy, open(\"Black_ice_Detection.npy\", 'wb'), protocol=4)"
   ]
  },
  {
   "cell_type": "code",
   "execution_count": null,
   "metadata": {},
   "outputs": [],
   "source": []
  }
 ],
 "metadata": {
  "kernelspec": {
   "display_name": "tensorflow2",
   "language": "python",
   "name": "tensorflow2"
  },
  "language_info": {
   "codemirror_mode": {
    "name": "ipython",
    "version": 3
   },
   "file_extension": ".py",
   "mimetype": "text/x-python",
   "name": "python",
   "nbconvert_exporter": "python",
   "pygments_lexer": "ipython3",
   "version": "3.7.7"
  }
 },
 "nbformat": 4,
 "nbformat_minor": 4
}
